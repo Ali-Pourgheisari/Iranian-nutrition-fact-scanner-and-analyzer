{
 "cells": [
  {
   "cell_type": "code",
   "execution_count": null,
   "metadata": {},
   "outputs": [],
   "source": [
    "# I rabeled data using roboflow, to download it we can use this code.\n",
    "from roboflow import Roboflow\n",
    "rf = Roboflow(api_key=\"Your-API-key\") # change it to your API key\n",
    "project = rf.workspace(\"label-detection-iuhkr\").project(\"nutrition-fact-detection\")\n",
    "version = project.version(1)\n",
    "dataset = version.download(\"yolov8\")"
   ]
  },
  {
   "cell_type": "code",
   "execution_count": null,
   "metadata": {},
   "outputs": [],
   "source": [
    "from ultralytics import YOLO\n",
    "\n",
    "# Load a model\n",
    "model = YOLO(\"yolov8s.pt\")  # load a pretrained model\n",
    "\n",
    "# Train the model\n",
    "results = model.train(data=\"/Data/Nutrition-fact-detection-1\", epochs=100, imgsz=640, device=[1])"
   ]
  },
  {
   "cell_type": "code",
   "execution_count": 1,
   "metadata": {},
   "outputs": [
    {
     "ename": "NameError",
     "evalue": "name 'YOLO' is not defined",
     "output_type": "error",
     "traceback": [
      "\u001b[1;31m---------------------------------------------------------------------------\u001b[0m",
      "\u001b[1;31mNameError\u001b[0m                                 Traceback (most recent call last)",
      "Cell \u001b[1;32mIn[1], line 2\u001b[0m\n\u001b[0;32m      1\u001b[0m \u001b[39m# Load a model\u001b[39;00m\n\u001b[1;32m----> 2\u001b[0m model \u001b[39m=\u001b[39m YOLO(\u001b[39m\"\u001b[39m\u001b[39mlast.pt\u001b[39m\u001b[39m\"\u001b[39m) \n\u001b[0;32m      4\u001b[0m \u001b[39m# Run batched inference on a list of images\u001b[39;00m\n\u001b[0;32m      5\u001b[0m results \u001b[39m=\u001b[39m model([\u001b[39m\"\u001b[39m\u001b[39m.//Data//Detection test//1.jpg\u001b[39m\u001b[39m\"\u001b[39m, \u001b[39m\"\u001b[39m\u001b[39m.//Data//Detection test//2.jpg\u001b[39m\u001b[39m\"\u001b[39m, \u001b[39m\"\u001b[39m\u001b[39m.//Data//Detection test//3.jpg\u001b[39m\u001b[39m\"\u001b[39m])  \u001b[39m# return a list of Results objects\u001b[39;00m\n",
      "\u001b[1;31mNameError\u001b[0m: name 'YOLO' is not defined"
     ]
    }
   ],
   "source": [
    "# Load a model\n",
    "model = YOLO(\"last.pt\") \n",
    " \n",
    "# Run batched inference on a list of images\n",
    "results = model([\".//Data//Detection test//1.jpg\", \".//Data//Detection test//2.jpg\", \".//Data//Detection test//3.jpg\"])  # return a list of Results objects\n",
    "\n",
    "# Process results list\n",
    "i = 0\n",
    "for result in results:\n",
    "    boxes = result.boxes  # Boxes object for bounding box outputs\n",
    "    obb = result.obb  # Oriented boxes object for OBB outputs\n",
    "    result.show()  # display to screen\n",
    "    result.save(filename=f\".//Data//Detection test//result_{i}.jpg\")  # save to disk\n",
    "    i += 1"
   ]
  }
 ],
 "metadata": {
  "kernelspec": {
   "display_name": "MLEnv",
   "language": "python",
   "name": "python3"
  },
  "language_info": {
   "codemirror_mode": {
    "name": "ipython",
    "version": 3
   },
   "file_extension": ".py",
   "mimetype": "text/x-python",
   "name": "python",
   "nbconvert_exporter": "python",
   "pygments_lexer": "ipython3",
   "version": "3.11.4"
  },
  "orig_nbformat": 4
 },
 "nbformat": 4,
 "nbformat_minor": 2
}
